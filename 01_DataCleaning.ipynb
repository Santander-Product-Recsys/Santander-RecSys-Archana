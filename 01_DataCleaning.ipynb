{
 "cells": [
  {
   "cell_type": "markdown",
   "id": "94f75547-b193-45e9-b642-36c358f046b0",
   "metadata": {},
   "source": [
    "## Data Cleaning"
   ]
  },
  {
   "cell_type": "code",
   "execution_count": 1,
   "id": "558b5f91-2af8-4c47-9f92-8f78f4de1572",
   "metadata": {},
   "outputs": [],
   "source": [
    "import pandas as pd\n",
    "import numpy as np\n",
    "import matplotlib.pyplot as plt\n",
    "import seaborn as sns"
   ]
  },
  {
   "cell_type": "code",
   "execution_count": 2,
   "id": "aa93eb53-f825-4ee6-ae36-5e348bb88c24",
   "metadata": {},
   "outputs": [
    {
     "name": "stderr",
     "output_type": "stream",
     "text": [
      "/var/folders/6s/47yqzy6x00x0m1qlmj5mwcv40000gn/T/ipykernel_2045/1612341302.py:1: DtypeWarning: Columns (5,8,11,15) have mixed types. Specify dtype option on import or set low_memory=False.\n",
      "  df = pd.read_csv(\"/Users/archana/Documents/Santander-RecSys/santander-product-recommendation/train_ver2.csv\")\n"
     ]
    }
   ],
   "source": [
    "df = pd.read_csv(\"/Users/archana/Documents/Santander-RecSys/santander-product-recommendation/train_ver2.csv\")"
   ]
  },
  {
   "cell_type": "code",
   "execution_count": 3,
   "id": "f428d0e7-027a-408f-9abe-6409d8118d22",
   "metadata": {},
   "outputs": [
    {
     "data": {
      "text/plain": [
       "(13647309, 48)"
      ]
     },
     "execution_count": 3,
     "metadata": {},
     "output_type": "execute_result"
    }
   ],
   "source": [
    "df.shape"
   ]
  },
  {
   "cell_type": "code",
   "execution_count": 4,
   "id": "3772520e-5c2c-4cf4-bb76-ec602b57be48",
   "metadata": {},
   "outputs": [
    {
     "data": {
      "text/html": [
       "<div>\n",
       "<style scoped>\n",
       "    .dataframe tbody tr th:only-of-type {\n",
       "        vertical-align: middle;\n",
       "    }\n",
       "\n",
       "    .dataframe tbody tr th {\n",
       "        vertical-align: top;\n",
       "    }\n",
       "\n",
       "    .dataframe thead th {\n",
       "        text-align: right;\n",
       "    }\n",
       "</style>\n",
       "<table border=\"1\" class=\"dataframe\">\n",
       "  <thead>\n",
       "    <tr style=\"text-align: right;\">\n",
       "      <th></th>\n",
       "      <th>fecha_dato</th>\n",
       "      <th>ncodpers</th>\n",
       "      <th>ind_empleado</th>\n",
       "      <th>pais_residencia</th>\n",
       "      <th>sexo</th>\n",
       "      <th>age</th>\n",
       "      <th>fecha_alta</th>\n",
       "      <th>ind_nuevo</th>\n",
       "      <th>antiguedad</th>\n",
       "      <th>indrel</th>\n",
       "      <th>...</th>\n",
       "      <th>ind_hip_fin_ult1</th>\n",
       "      <th>ind_plan_fin_ult1</th>\n",
       "      <th>ind_pres_fin_ult1</th>\n",
       "      <th>ind_reca_fin_ult1</th>\n",
       "      <th>ind_tjcr_fin_ult1</th>\n",
       "      <th>ind_valo_fin_ult1</th>\n",
       "      <th>ind_viv_fin_ult1</th>\n",
       "      <th>ind_nomina_ult1</th>\n",
       "      <th>ind_nom_pens_ult1</th>\n",
       "      <th>ind_recibo_ult1</th>\n",
       "    </tr>\n",
       "  </thead>\n",
       "  <tbody>\n",
       "    <tr>\n",
       "      <th>0</th>\n",
       "      <td>2015-01-28</td>\n",
       "      <td>1375586</td>\n",
       "      <td>N</td>\n",
       "      <td>ES</td>\n",
       "      <td>H</td>\n",
       "      <td>35</td>\n",
       "      <td>2015-01-12</td>\n",
       "      <td>0.0</td>\n",
       "      <td>6</td>\n",
       "      <td>1.0</td>\n",
       "      <td>...</td>\n",
       "      <td>0</td>\n",
       "      <td>0</td>\n",
       "      <td>0</td>\n",
       "      <td>0</td>\n",
       "      <td>0</td>\n",
       "      <td>0</td>\n",
       "      <td>0</td>\n",
       "      <td>0.0</td>\n",
       "      <td>0.0</td>\n",
       "      <td>0</td>\n",
       "    </tr>\n",
       "    <tr>\n",
       "      <th>1</th>\n",
       "      <td>2015-01-28</td>\n",
       "      <td>1050611</td>\n",
       "      <td>N</td>\n",
       "      <td>ES</td>\n",
       "      <td>V</td>\n",
       "      <td>23</td>\n",
       "      <td>2012-08-10</td>\n",
       "      <td>0.0</td>\n",
       "      <td>35</td>\n",
       "      <td>1.0</td>\n",
       "      <td>...</td>\n",
       "      <td>0</td>\n",
       "      <td>0</td>\n",
       "      <td>0</td>\n",
       "      <td>0</td>\n",
       "      <td>0</td>\n",
       "      <td>0</td>\n",
       "      <td>0</td>\n",
       "      <td>0.0</td>\n",
       "      <td>0.0</td>\n",
       "      <td>0</td>\n",
       "    </tr>\n",
       "    <tr>\n",
       "      <th>2</th>\n",
       "      <td>2015-01-28</td>\n",
       "      <td>1050612</td>\n",
       "      <td>N</td>\n",
       "      <td>ES</td>\n",
       "      <td>V</td>\n",
       "      <td>23</td>\n",
       "      <td>2012-08-10</td>\n",
       "      <td>0.0</td>\n",
       "      <td>35</td>\n",
       "      <td>1.0</td>\n",
       "      <td>...</td>\n",
       "      <td>0</td>\n",
       "      <td>0</td>\n",
       "      <td>0</td>\n",
       "      <td>0</td>\n",
       "      <td>0</td>\n",
       "      <td>0</td>\n",
       "      <td>0</td>\n",
       "      <td>0.0</td>\n",
       "      <td>0.0</td>\n",
       "      <td>0</td>\n",
       "    </tr>\n",
       "    <tr>\n",
       "      <th>3</th>\n",
       "      <td>2015-01-28</td>\n",
       "      <td>1050613</td>\n",
       "      <td>N</td>\n",
       "      <td>ES</td>\n",
       "      <td>H</td>\n",
       "      <td>22</td>\n",
       "      <td>2012-08-10</td>\n",
       "      <td>0.0</td>\n",
       "      <td>35</td>\n",
       "      <td>1.0</td>\n",
       "      <td>...</td>\n",
       "      <td>0</td>\n",
       "      <td>0</td>\n",
       "      <td>0</td>\n",
       "      <td>0</td>\n",
       "      <td>0</td>\n",
       "      <td>0</td>\n",
       "      <td>0</td>\n",
       "      <td>0.0</td>\n",
       "      <td>0.0</td>\n",
       "      <td>0</td>\n",
       "    </tr>\n",
       "    <tr>\n",
       "      <th>4</th>\n",
       "      <td>2015-01-28</td>\n",
       "      <td>1050614</td>\n",
       "      <td>N</td>\n",
       "      <td>ES</td>\n",
       "      <td>V</td>\n",
       "      <td>23</td>\n",
       "      <td>2012-08-10</td>\n",
       "      <td>0.0</td>\n",
       "      <td>35</td>\n",
       "      <td>1.0</td>\n",
       "      <td>...</td>\n",
       "      <td>0</td>\n",
       "      <td>0</td>\n",
       "      <td>0</td>\n",
       "      <td>0</td>\n",
       "      <td>0</td>\n",
       "      <td>0</td>\n",
       "      <td>0</td>\n",
       "      <td>0.0</td>\n",
       "      <td>0.0</td>\n",
       "      <td>0</td>\n",
       "    </tr>\n",
       "  </tbody>\n",
       "</table>\n",
       "<p>5 rows × 48 columns</p>\n",
       "</div>"
      ],
      "text/plain": [
       "   fecha_dato  ncodpers ind_empleado pais_residencia sexo  age  fecha_alta  \\\n",
       "0  2015-01-28   1375586            N              ES    H   35  2015-01-12   \n",
       "1  2015-01-28   1050611            N              ES    V   23  2012-08-10   \n",
       "2  2015-01-28   1050612            N              ES    V   23  2012-08-10   \n",
       "3  2015-01-28   1050613            N              ES    H   22  2012-08-10   \n",
       "4  2015-01-28   1050614            N              ES    V   23  2012-08-10   \n",
       "\n",
       "   ind_nuevo antiguedad  indrel  ... ind_hip_fin_ult1 ind_plan_fin_ult1  \\\n",
       "0        0.0          6     1.0  ...                0                 0   \n",
       "1        0.0         35     1.0  ...                0                 0   \n",
       "2        0.0         35     1.0  ...                0                 0   \n",
       "3        0.0         35     1.0  ...                0                 0   \n",
       "4        0.0         35     1.0  ...                0                 0   \n",
       "\n",
       "  ind_pres_fin_ult1 ind_reca_fin_ult1 ind_tjcr_fin_ult1 ind_valo_fin_ult1  \\\n",
       "0                 0                 0                 0                 0   \n",
       "1                 0                 0                 0                 0   \n",
       "2                 0                 0                 0                 0   \n",
       "3                 0                 0                 0                 0   \n",
       "4                 0                 0                 0                 0   \n",
       "\n",
       "  ind_viv_fin_ult1 ind_nomina_ult1  ind_nom_pens_ult1  ind_recibo_ult1  \n",
       "0                0             0.0                0.0                0  \n",
       "1                0             0.0                0.0                0  \n",
       "2                0             0.0                0.0                0  \n",
       "3                0             0.0                0.0                0  \n",
       "4                0             0.0                0.0                0  \n",
       "\n",
       "[5 rows x 48 columns]"
      ]
     },
     "execution_count": 4,
     "metadata": {},
     "output_type": "execute_result"
    }
   ],
   "source": [
    "df.head()"
   ]
  },
  {
   "cell_type": "code",
   "execution_count": 5,
   "id": "e0a83a22-fd48-4be6-a871-e9ded50ca39d",
   "metadata": {},
   "outputs": [
    {
     "data": {
      "text/plain": [
       "fecha_dato                object\n",
       "ncodpers                   int64\n",
       "ind_empleado              object\n",
       "pais_residencia           object\n",
       "sexo                      object\n",
       "age                       object\n",
       "fecha_alta                object\n",
       "ind_nuevo                float64\n",
       "antiguedad                object\n",
       "indrel                   float64\n",
       "ult_fec_cli_1t            object\n",
       "indrel_1mes               object\n",
       "tiprel_1mes               object\n",
       "indresi                   object\n",
       "indext                    object\n",
       "conyuemp                  object\n",
       "canal_entrada             object\n",
       "indfall                   object\n",
       "tipodom                  float64\n",
       "cod_prov                 float64\n",
       "nomprov                   object\n",
       "ind_actividad_cliente    float64\n",
       "renta                    float64\n",
       "segmento                  object\n",
       "ind_ahor_fin_ult1          int64\n",
       "ind_aval_fin_ult1          int64\n",
       "ind_cco_fin_ult1           int64\n",
       "ind_cder_fin_ult1          int64\n",
       "ind_cno_fin_ult1           int64\n",
       "ind_ctju_fin_ult1          int64\n",
       "ind_ctma_fin_ult1          int64\n",
       "ind_ctop_fin_ult1          int64\n",
       "ind_ctpp_fin_ult1          int64\n",
       "ind_deco_fin_ult1          int64\n",
       "ind_deme_fin_ult1          int64\n",
       "ind_dela_fin_ult1          int64\n",
       "ind_ecue_fin_ult1          int64\n",
       "ind_fond_fin_ult1          int64\n",
       "ind_hip_fin_ult1           int64\n",
       "ind_plan_fin_ult1          int64\n",
       "ind_pres_fin_ult1          int64\n",
       "ind_reca_fin_ult1          int64\n",
       "ind_tjcr_fin_ult1          int64\n",
       "ind_valo_fin_ult1          int64\n",
       "ind_viv_fin_ult1           int64\n",
       "ind_nomina_ult1          float64\n",
       "ind_nom_pens_ult1        float64\n",
       "ind_recibo_ult1            int64\n",
       "dtype: object"
      ]
     },
     "execution_count": 5,
     "metadata": {},
     "output_type": "execute_result"
    }
   ],
   "source": [
    "df.dtypes"
   ]
  },
  {
   "cell_type": "markdown",
   "id": "cec61b4f-7657-49b8-82d4-89ede2121dd7",
   "metadata": {},
   "source": [
    "### Removing null values"
   ]
  },
  {
   "cell_type": "code",
   "execution_count": 6,
   "id": "d317668c-df35-42b3-a424-71767cb08408",
   "metadata": {},
   "outputs": [
    {
     "data": {
      "text/plain": [
       "fecha_dato                      0\n",
       "ncodpers                        0\n",
       "ind_empleado                27734\n",
       "pais_residencia             27734\n",
       "sexo                        27804\n",
       "age                             0\n",
       "fecha_alta                  27734\n",
       "ind_nuevo                   27734\n",
       "antiguedad                      0\n",
       "indrel                      27734\n",
       "ult_fec_cli_1t           13622516\n",
       "indrel_1mes                149781\n",
       "tiprel_1mes                149781\n",
       "indresi                     27734\n",
       "indext                      27734\n",
       "conyuemp                 13645501\n",
       "canal_entrada              186126\n",
       "indfall                     27734\n",
       "tipodom                     27735\n",
       "cod_prov                    93591\n",
       "nomprov                     93591\n",
       "ind_actividad_cliente       27734\n",
       "renta                     2794375\n",
       "segmento                   189368\n",
       "ind_ahor_fin_ult1               0\n",
       "ind_aval_fin_ult1               0\n",
       "ind_cco_fin_ult1                0\n",
       "ind_cder_fin_ult1               0\n",
       "ind_cno_fin_ult1                0\n",
       "ind_ctju_fin_ult1               0\n",
       "ind_ctma_fin_ult1               0\n",
       "ind_ctop_fin_ult1               0\n",
       "ind_ctpp_fin_ult1               0\n",
       "ind_deco_fin_ult1               0\n",
       "ind_deme_fin_ult1               0\n",
       "ind_dela_fin_ult1               0\n",
       "ind_ecue_fin_ult1               0\n",
       "ind_fond_fin_ult1               0\n",
       "ind_hip_fin_ult1                0\n",
       "ind_plan_fin_ult1               0\n",
       "ind_pres_fin_ult1               0\n",
       "ind_reca_fin_ult1               0\n",
       "ind_tjcr_fin_ult1               0\n",
       "ind_valo_fin_ult1               0\n",
       "ind_viv_fin_ult1                0\n",
       "ind_nomina_ult1             16063\n",
       "ind_nom_pens_ult1           16063\n",
       "ind_recibo_ult1                 0\n",
       "dtype: int64"
      ]
     },
     "execution_count": 6,
     "metadata": {},
     "output_type": "execute_result"
    }
   ],
   "source": [
    "df.isnull().sum()"
   ]
  },
  {
   "cell_type": "markdown",
   "id": "187d9100-4403-47c5-9cf6-4d552aaf12e3",
   "metadata": {},
   "source": [
    "Checking percentage of null"
   ]
  },
  {
   "cell_type": "code",
   "execution_count": 7,
   "id": "542ab39f-0781-4c98-bdd0-55bc9337c4a9",
   "metadata": {},
   "outputs": [
    {
     "name": "stdout",
     "output_type": "stream",
     "text": [
      "                       percent_missing  n_missing\n",
      "conyuemp                     99.986752   13645501\n",
      "ult_fec_cli_1t               99.818330   13622516\n",
      "renta                        20.475648    2794375\n",
      "segmento                      1.387585     189368\n",
      "canal_entrada                 1.363829     186126\n",
      "indrel_1mes                   1.097513     149781\n",
      "tiprel_1mes                   1.097513     149781\n",
      "nomprov                       0.685784      93591\n",
      "cod_prov                      0.685784      93591\n",
      "sexo                          0.203732      27804\n",
      "tipodom                       0.203227      27735\n",
      "indfall                       0.203220      27734\n",
      "indext                        0.203220      27734\n",
      "ind_actividad_cliente         0.203220      27734\n",
      "indresi                       0.203220      27734\n",
      "indrel                        0.203220      27734\n",
      "ind_nuevo                     0.203220      27734\n",
      "fecha_alta                    0.203220      27734\n",
      "pais_residencia               0.203220      27734\n",
      "ind_empleado                  0.203220      27734\n",
      "ind_nomina_ult1               0.117701      16063\n",
      "ind_nom_pens_ult1             0.117701      16063\n",
      "ind_pres_fin_ult1             0.000000          0\n",
      "ind_ecue_fin_ult1             0.000000          0\n",
      "ind_fond_fin_ult1             0.000000          0\n",
      "ind_hip_fin_ult1              0.000000          0\n",
      "ind_plan_fin_ult1             0.000000          0\n",
      "fecha_dato                    0.000000          0\n",
      "ind_reca_fin_ult1             0.000000          0\n",
      "ind_tjcr_fin_ult1             0.000000          0\n",
      "ind_valo_fin_ult1             0.000000          0\n",
      "ind_viv_fin_ult1              0.000000          0\n",
      "ind_deme_fin_ult1             0.000000          0\n",
      "ind_dela_fin_ult1             0.000000          0\n",
      "ind_ahor_fin_ult1             0.000000          0\n",
      "ind_deco_fin_ult1             0.000000          0\n",
      "ind_ctpp_fin_ult1             0.000000          0\n",
      "ind_ctop_fin_ult1             0.000000          0\n",
      "ind_ctma_fin_ult1             0.000000          0\n",
      "ind_ctju_fin_ult1             0.000000          0\n",
      "ind_cno_fin_ult1              0.000000          0\n",
      "ind_cder_fin_ult1             0.000000          0\n",
      "ind_cco_fin_ult1              0.000000          0\n",
      "ind_aval_fin_ult1             0.000000          0\n",
      "ncodpers                      0.000000          0\n",
      "antiguedad                    0.000000          0\n",
      "age                           0.000000          0\n",
      "ind_recibo_ult1               0.000000          0\n"
     ]
    }
   ],
   "source": [
    "total_rows = len(df)\n",
    "n_missing = df.isnull().sum()\n",
    "\n",
    "# calculating percentage missing\n",
    "pct_missing = (n_missing / total_rows) * 100\n",
    "pct_missing = pct_missing.sort_values(ascending=False)\n",
    "pct_missing_df = pct_missing.rename(\"percent_missing\").to_frame()\n",
    "pct_missing_df[\"n_missing\"] = n_missing\n",
    "\n",
    "print(pct_missing_df)\n"
   ]
  },
  {
   "cell_type": "markdown",
   "id": "bfc5f244-f95f-4723-bb90-5bdddc34a72a",
   "metadata": {},
   "source": [
    "Since conyuemp and ult_fec_cli_1t fields have high missing percent, dropping both fields"
   ]
  },
  {
   "cell_type": "code",
   "execution_count": 8,
   "id": "08b8b4d3-0305-4ed1-b4ac-0319a34bc9bc",
   "metadata": {},
   "outputs": [],
   "source": [
    "df = df.drop([\"conyuemp\",\"ult_fec_cli_1t\"], axis = 1)"
   ]
  },
  {
   "cell_type": "code",
   "execution_count": 9,
   "id": "bd2d7409-d303-4bc0-91a5-024e4471aad4",
   "metadata": {},
   "outputs": [
    {
     "data": {
      "text/plain": [
       "(13647309, 46)"
      ]
     },
     "execution_count": 9,
     "metadata": {},
     "output_type": "execute_result"
    }
   ],
   "source": [
    "df.shape"
   ]
  },
  {
   "cell_type": "code",
   "execution_count": 10,
   "id": "4029b0a0-4ac7-489a-b5d7-9c7959f2eedc",
   "metadata": {},
   "outputs": [
    {
     "name": "stdout",
     "output_type": "stream",
     "text": [
      "                       percent_missing  n_missing\n",
      "renta                            20.48    2794375\n",
      "segmento                          1.39     189368\n",
      "canal_entrada                     1.36     186126\n",
      "indrel_1mes                       1.10     149781\n",
      "tiprel_1mes                       1.10     149781\n",
      "cod_prov                          0.69      93591\n",
      "nomprov                           0.69      93591\n",
      "sexo                              0.20      27804\n",
      "tipodom                           0.20      27735\n",
      "ind_nuevo                         0.20      27734\n",
      "indext                            0.20      27734\n",
      "indfall                           0.20      27734\n",
      "ind_empleado                      0.20      27734\n",
      "indresi                           0.20      27734\n",
      "pais_residencia                   0.20      27734\n",
      "ind_actividad_cliente             0.20      27734\n",
      "fecha_alta                        0.20      27734\n",
      "indrel                            0.20      27734\n",
      "ind_nom_pens_ult1                 0.12      16063\n",
      "ind_nomina_ult1                   0.12      16063\n"
     ]
    }
   ],
   "source": [
    "total_rows = len(df)\n",
    "n_missing = df.isnull().sum()\n",
    "pct_missing = (n_missing / total_rows) * 100\n",
    "pct_missing = pct_missing.sort_values(ascending=False)\n",
    "\n",
    "# dropping columns with no missing\n",
    "pct_missing_df = (\n",
    "    pd.DataFrame({\n",
    "        'percent_missing': pct_missing,\n",
    "        'n_missing': n_missing\n",
    "    })\n",
    "    .query('n_missing > 0')              \n",
    "    .sort_values(by='percent_missing', ascending=False)\n",
    "    .assign(percent_missing=lambda d: d['percent_missing'].round(2))\n",
    ")\n",
    "\n",
    "print(pct_missing_df)"
   ]
  },
  {
   "cell_type": "markdown",
   "id": "411fe2b9-9892-4e71-8b93-55a7a76abe6a",
   "metadata": {},
   "source": [
    "#### Imputation of Segmento-segmentation\n",
    "01 - VIP, 02 - Individuals 03 - college graduated"
   ]
  },
  {
   "cell_type": "markdown",
   "id": "4a5b283b-228d-46fb-a836-c54bc6001d8c",
   "metadata": {},
   "source": [
    "Since it is categorical field, filling missing values with mode"
   ]
  },
  {
   "cell_type": "code",
   "execution_count": 11,
   "id": "444f9301-cc83-4703-96a5-7ab0a0d6b9e0",
   "metadata": {},
   "outputs": [
    {
     "data": {
      "text/plain": [
       "np.int64(0)"
      ]
     },
     "execution_count": 11,
     "metadata": {},
     "output_type": "execute_result"
    }
   ],
   "source": [
    "df['segmento'] = df['segmento'].fillna(df['segmento'].mode()[0])\n",
    "df['segmento'].isnull().sum()"
   ]
  },
  {
   "cell_type": "code",
   "execution_count": 12,
   "id": "6405d1db-1cf3-479f-8073-d940ff4a1f97",
   "metadata": {},
   "outputs": [
    {
     "data": {
      "image/png": "[encoded data removed]",
      "text/plain": [
       "<Figure size 800x400 with 1 Axes>"
      ]
     },
     "metadata": {},
     "output_type": "display_data"
    }
   ],
   "source": [
    "plt.figure(figsize=(8,4))\n",
    "(df['segmento'].value_counts(normalize=True) * 100).plot(kind='bar')\n",
    "plt.title('Customers by Segmento (%)')\n",
    "plt.xlabel('Segmento')\n",
    "plt.ylabel('Percentage')\n",
    "plt.xticks(rotation=45)\n",
    "plt.tight_layout()\n",
    "plt.show()"
   ]
  },
  {
   "cell_type": "markdown",
   "id": "362fbf5f-231a-46da-a305-2822bc074e42",
   "metadata": {},
   "source": [
    "#### Imputation of Age"
   ]
  },
  {
   "cell_type": "code",
   "execution_count": 13,
   "id": "25d9633e-ce1f-4c8b-a761-5f244993270c",
   "metadata": {},
   "outputs": [
    {
     "name": "stdout",
     "output_type": "stream",
     "text": [
      "dtype of 'age': float64\n",
      "Number of nulls in 'age': 27734\n",
      "Percentage missing in 'age': 0.20%\n"
     ]
    }
   ],
   "source": [
    "# converting it to numeric\n",
    "df['age'] = pd.to_numeric(df['age'], errors='coerce')\n",
    "print(\"dtype of 'age':\", df['age'].dtype)\n",
    "\n",
    "\n",
    "null_count = df['age'].isna().sum()\n",
    "print(\"Number of nulls in 'age':\", null_count)\n",
    "\n",
    "pct_null = null_count / len(df) * 100\n",
    "print(f\"Percentage missing in 'age': {pct_null:.2f}%\")\n"
   ]
  },
  {
   "cell_type": "code",
   "execution_count": 14,
   "id": "4dce4b98-6c13-46fa-a5fc-fa7a7a9ea476",
   "metadata": {},
   "outputs": [
    {
     "data": {
      "image/png": "[encoded data removed]",
      "text/plain": [
       "<Figure size 800x400 with 1 Axes>"
      ]
     },
     "metadata": {},
     "output_type": "display_data"
    }
   ],
   "source": [
    "plt.figure(figsize=(8,4))\n",
    "plt.hist(df['age'], bins=30, edgecolor='black')\n",
    "plt.title('Age Distribution')\n",
    "plt.xlabel('Age')\n",
    "plt.ylabel('Count')\n",
    "plt.tight_layout()\n",
    "plt.show()"
   ]
  },
  {
   "cell_type": "code",
   "execution_count": 15,
   "id": "2f7ff8cd-c6e9-4eeb-b989-a56c20e60ece",
   "metadata": {},
   "outputs": [
    {
     "data": {
      "image/png": "[encoded data removed]",
      "text/plain": [
       "<Figure size 800x200 with 1 Axes>"
      ]
     },
     "metadata": {},
     "output_type": "display_data"
    }
   ],
   "source": [
    "# Boxplot to visualize outliers\n",
    "ages = df.loc[df['age'].notna(), 'age']\n",
    "plt.figure(figsize=(8,2))\n",
    "plt.boxplot(ages, vert=False, showfliers=True)\n",
    "plt.title('Boxplot of Age')\n",
    "plt.xlabel('Age')\n",
    "plt.tight_layout()\n",
    "plt.show()"
   ]
  },
  {
   "cell_type": "code",
   "execution_count": 16,
   "id": "9959667b-fe5a-4ddf-98e9-0b9a4d6ae64f",
   "metadata": {},
   "outputs": [
    {
     "name": "stdout",
     "output_type": "stream",
     "text": [
      "Minimum age: 2.0\n",
      "Maximum age: 164.0\n"
     ]
    }
   ],
   "source": [
    "age_min = df['age'].min()\n",
    "age_max = df['age'].max()\n",
    "\n",
    "print(f\"Minimum age: {age_min}\")\n",
    "print(f\"Maximum age: {age_max}\")\n"
   ]
  },
  {
   "cell_type": "markdown",
   "id": "f23671ec-c94c-4a84-941b-7ba3f93de560",
   "metadata": {},
   "source": [
    "Setting min and max age to remove outliers"
   ]
  },
  {
   "cell_type": "code",
   "execution_count": 17,
   "id": "2829291b-49f7-4742-9820-d24ed31f4668",
   "metadata": {},
   "outputs": [
    {
     "name": "stdout",
     "output_type": "stream",
     "text": [
      "Removed 131665 rows (0.96%) outside age [18, 100] (excluding NaNs).\n"
     ]
    }
   ],
   "source": [
    "original_count = len(df)\n",
    "\n",
    "min_age, max_age = 18, 100\n",
    "mask = df['age'].between(min_age, max_age) | df['age'].isna()\n",
    "\n",
    "df = df[mask].copy()\n",
    "\n",
    "removed_count = original_count - len(df)\n",
    "removed_pct = removed_count / original_count * 100\n",
    "print(f\"Removed {removed_count} rows ({removed_pct:.2f}%) outside age [{min_age}, {max_age}] (excluding NaNs).\")\n"
   ]
  },
  {
   "cell_type": "code",
   "execution_count": 18,
   "id": "386c9615-ec6d-4e6a-9a66-e5d40e67cc19",
   "metadata": {},
   "outputs": [
    {
     "data": {
      "image/png": "[encoded data removed]",
      "text/plain": [
       "<Figure size 800x400 with 1 Axes>"
      ]
     },
     "metadata": {},
     "output_type": "display_data"
    }
   ],
   "source": [
    "# histogram without outliers\n",
    "plt.figure(figsize=(8,4))\n",
    "plt.hist(df['age'], bins=30, edgecolor='black')\n",
    "plt.title('Age Distribution)')\n",
    "plt.xlabel('Age')\n",
    "plt.ylabel('Count')\n",
    "plt.tight_layout()\n",
    "plt.show()\n"
   ]
  },
  {
   "cell_type": "code",
   "execution_count": 19,
   "id": "99ff408b-1f69-40ea-a8f9-93cf4b58e248",
   "metadata": {},
   "outputs": [
    {
     "data": {
      "image/png": "[encoded data removed]",
      "text/plain": [
       "<Figure size 800x200 with 1 Axes>"
      ]
     },
     "metadata": {},
     "output_type": "display_data"
    }
   ],
   "source": [
    "ages = df.loc[df['age'].notna(), 'age']\n",
    "plt.figure(figsize=(8,2))\n",
    "plt.boxplot(ages, vert=False, showfliers=True)\n",
    "plt.title('Boxplot of Age after removal of outliers')\n",
    "plt.xlabel('Age')\n",
    "plt.tight_layout()\n",
    "plt.show()"
   ]
  },
  {
   "cell_type": "code",
   "execution_count": 20,
   "id": "61006ecf-f692-452a-b5a2-dc3eea3821f9",
   "metadata": {},
   "outputs": [
    {
     "name": "stdout",
     "output_type": "stream",
     "text": [
      "Minimum age: 18.0\n",
      "Maximum age: 100.0\n"
     ]
    }
   ],
   "source": [
    "age_min = df['age'].min()\n",
    "age_max = df['age'].max()\n",
    "\n",
    "print(f\"Minimum age: {age_min}\")\n",
    "print(f\"Maximum age: {age_max}\")\n"
   ]
  },
  {
   "cell_type": "code",
   "execution_count": 21,
   "id": "b5030f84-bdc4-47e1-8abc-420b7ce2e3d6",
   "metadata": {},
   "outputs": [
    {
     "name": "stdout",
     "output_type": "stream",
     "text": [
      "Number of nulls in 'age': 27734\n",
      "Percentage missing in 'age': 0.21%\n"
     ]
    }
   ],
   "source": [
    "null_count = df['age'].isna().sum()\n",
    "print(\"Number of nulls in 'age':\", null_count)\n",
    "\n",
    "pct_null = null_count / len(df) * 100\n",
    "print(f\"Percentage missing in 'age': {pct_null:.2f}%\")"
   ]
  },
  {
   "cell_type": "markdown",
   "id": "440a0e1c-f4ce-4f03-acb6-15326091e27d",
   "metadata": {},
   "source": [
    "Age field is filled with median values of particular segment"
   ]
  },
  {
   "cell_type": "code",
   "execution_count": 22,
   "id": "ae98a5bd-5b84-401a-b3c2-ab9831bfae25",
   "metadata": {},
   "outputs": [],
   "source": [
    "# Calculating median age by segmento\n",
    "df['age_med_by_seg'] = df.groupby('segmento')['age'].transform('median')\n",
    "\n",
    "# fallback if segment is not present (worst case)\n",
    "global_age_med = df['age'].median()\n",
    "\n",
    "# Filling missing values first with segment median, then global median\n",
    "df['age'] = (df['age'].fillna(df['age_med_by_seg']).fillna(global_age_med))\n",
    "\n",
    "df.drop(columns=['age_med_by_seg'], inplace=True)\n"
   ]
  },
  {
   "cell_type": "code",
   "execution_count": 23,
   "id": "4208eee7-ca12-4587-ad43-04db56e1743f",
   "metadata": {},
   "outputs": [
    {
     "name": "stdout",
     "output_type": "stream",
     "text": [
      "Number of nulls in 'age': 0\n",
      "Percentage missing in 'age': 0.00%\n"
     ]
    }
   ],
   "source": [
    "null_count = df['age'].isna().sum()\n",
    "print(\"Number of nulls in 'age':\", null_count)\n",
    "\n",
    "pct_null = null_count / len(df) * 100\n",
    "print(f\"Percentage missing in 'age': {pct_null:.2f}%\")"
   ]
  },
  {
   "cell_type": "code",
   "execution_count": 24,
   "id": "5f35eac3-c1af-49db-b33b-8406f16ff2a6",
   "metadata": {},
   "outputs": [
    {
     "data": {
      "image/png": "[encoded data removed]",
      "text/plain": [
       "<Figure size 1000x600 with 1 Axes>"
      ]
     },
     "metadata": {},
     "output_type": "display_data"
    }
   ],
   "source": [
    "# creating Bin age\n",
    "bins   = [18, 30, 40, 50, 60, 70, 80, 100]\n",
    "labels = ['18–29','30–39','40–49','50–59','60–69','70–79','80–100']\n",
    "df['age_bin'] = pd.cut(df['age'],bins=bins,labels=labels,right=True,include_lowest=True)\n",
    "\n",
    "ct = pd.crosstab(df['age_bin'], df['segmento'], normalize='columns') * 100\n",
    "\n",
    "colors = plt.get_cmap('tab10').colors[:len(ct.columns)]\n",
    "\n",
    "ax = ct.plot(\n",
    "    kind='bar', \n",
    "    stacked=True, \n",
    "    color=colors, \n",
    "    figsize=(10,6), \n",
    "    width=0.8\n",
    ")\n",
    "ax.set_title('Age–Bin Composition by Segmento')\n",
    "ax.set_xlabel('Age Bin')\n",
    "ax.set_ylabel('Percentage of Customers')\n",
    "ax.legend(title='Segmento', bbox_to_anchor=(1,1))\n",
    "plt.xticks(rotation=45)\n",
    "plt.tight_layout()\n",
    "plt.show()\n"
   ]
  },
  {
   "cell_type": "markdown",
   "id": "a6e6b759-7e17-4305-b693-ebf33a815347",
   "metadata": {},
   "source": [
    "#### Imputation of Sexo-Customer's sex"
   ]
  },
  {
   "cell_type": "markdown",
   "id": "3fb7e4b7-e583-43b4-8ab4-02a7f40930ea",
   "metadata": {},
   "source": [
    "\"H\" = Hombre (Male)  \n",
    "\"V\" = Mujer (Female)"
   ]
  },
  {
   "cell_type": "code",
   "execution_count": 25,
   "id": "f6cc8ebe-957f-445f-8146-b6af63fab2d9",
   "metadata": {},
   "outputs": [
    {
     "data": {
      "text/html": [
       "<div>\n",
       "<style scoped>\n",
       "    .dataframe tbody tr th:only-of-type {\n",
       "        vertical-align: middle;\n",
       "    }\n",
       "\n",
       "    .dataframe tbody tr th {\n",
       "        vertical-align: top;\n",
       "    }\n",
       "\n",
       "    .dataframe thead th {\n",
       "        text-align: right;\n",
       "    }\n",
       "</style>\n",
       "<table border=\"1\" class=\"dataframe\">\n",
       "  <thead>\n",
       "    <tr style=\"text-align: right;\">\n",
       "      <th>sexo</th>\n",
       "      <th>H</th>\n",
       "      <th>V</th>\n",
       "    </tr>\n",
       "    <tr>\n",
       "      <th>segmento</th>\n",
       "      <th></th>\n",
       "      <th></th>\n",
       "    </tr>\n",
       "  </thead>\n",
       "  <tbody>\n",
       "    <tr>\n",
       "      <th>01 - TOP</th>\n",
       "      <td>202351</td>\n",
       "      <td>359533</td>\n",
       "    </tr>\n",
       "    <tr>\n",
       "      <th>02 - PARTICULARES</th>\n",
       "      <td>3146652</td>\n",
       "      <td>4843742</td>\n",
       "    </tr>\n",
       "    <tr>\n",
       "      <th>03 - UNIVERSITARIO</th>\n",
       "      <td>2780205</td>\n",
       "      <td>2155374</td>\n",
       "    </tr>\n",
       "  </tbody>\n",
       "</table>\n",
       "</div>"
      ],
      "text/plain": [
       "sexo                      H        V\n",
       "segmento                            \n",
       "01 - TOP             202351   359533\n",
       "02 - PARTICULARES   3146652  4843742\n",
       "03 - UNIVERSITARIO  2780205  2155374"
      ]
     },
     "execution_count": 25,
     "metadata": {},
     "output_type": "execute_result"
    }
   ],
   "source": [
    "counts = (df.groupby(['segmento','sexo'])['sexo'].count().unstack(fill_value=0))\n",
    "counts"
   ]
  },
  {
   "cell_type": "code",
   "execution_count": 26,
   "id": "990f8ed2-b232-4257-9619-f2788ee65ad3",
   "metadata": {},
   "outputs": [
    {
     "data": {
      "image/png": "[encoded data removed]",
      "text/plain": [
       "<Figure size 1200x600 with 1 Axes>"
      ]
     },
     "metadata": {},
     "output_type": "display_data"
    }
   ],
   "source": [
    "plt.figure(figsize=(12,6))\n",
    "sns.countplot(data=df, x='segmento', hue='sexo')\n",
    "plt.title('Count of Sexo by Segmento')\n",
    "plt.ylabel('Number of Customers')\n",
    "plt.xlabel('Segmento')\n",
    "plt.xticks(rotation=45)\n",
    "plt.legend(title='Sexo')\n",
    "plt.tight_layout()\n",
    "plt.show()\n"
   ]
  },
  {
   "cell_type": "code",
   "execution_count": 27,
   "id": "4437a27d-f710-410f-9728-1cb03079a7ec",
   "metadata": {},
   "outputs": [
    {
     "name": "stdout",
     "output_type": "stream",
     "text": [
      "Number of nulls in 'sexo': 27787\n",
      "Percentage missing in 'sexo': 0.21%\n"
     ]
    }
   ],
   "source": [
    "null_count = df['sexo'].isna().sum()\n",
    "print(\"Number of nulls in 'sexo':\", null_count)\n",
    "\n",
    "pct_null = null_count / len(df) * 100\n",
    "print(f\"Percentage missing in 'sexo': {pct_null:.2f}%\")"
   ]
  },
  {
   "cell_type": "markdown",
   "id": "c1a953ae-e4e4-4801-aff5-820991afbe6c",
   "metadata": {},
   "source": [
    "Filling sexo values with segment's mode"
   ]
  },
  {
   "cell_type": "code",
   "execution_count": 28,
   "id": "8bf5d5ff-c81c-453f-a249-86429d97909b",
   "metadata": {},
   "outputs": [],
   "source": [
    "counts = df.groupby(['segmento','sexo']).size().unstack(fill_value=0)\n",
    "segment_mode = counts.idxmax(axis=1)\n",
    "\n",
    "df['sexo'] = df['sexo'].fillna(df['segmento'].map(segment_mode))"
   ]
  },
  {
   "cell_type": "markdown",
   "id": "55d874dd-dd6e-44f3-9078-eecbfbe0b66d",
   "metadata": {},
   "source": [
    "#### Imputation of Renta-Gross income of the household"
   ]
  },
  {
   "cell_type": "code",
   "execution_count": 30,
   "id": "764ee1b1-5222-4029-8116-8839e7f4d3c9",
   "metadata": {},
   "outputs": [
    {
     "name": "stderr",
     "output_type": "stream",
     "text": [
      "/var/folders/6s/47yqzy6x00x0m1qlmj5mwcv40000gn/T/ipykernel_2045/3924385819.py:1: FutureWarning: The default of observed=False is deprecated and will be changed to True in a future version of pandas. Pass observed=False to retain current behavior or observed=True to adopt the future default and silence this warning.\n",
      "  df['r_med_seg_age'] = df.groupby(['segmento','age_bin'])['renta'].transform('median')\n",
      "/var/folders/6s/47yqzy6x00x0m1qlmj5mwcv40000gn/T/ipykernel_2045/3924385819.py:3: FutureWarning: The default of observed=False is deprecated and will be changed to True in a future version of pandas. Pass observed=False to retain current behavior or observed=True to adopt the future default and silence this warning.\n",
      "  df['r_med_age']     = df.groupby('age_bin')['renta'].transform('median')\n"
     ]
    }
   ],
   "source": [
    "# groupby using different columns\n",
    "df['r_med_seg_age'] = df.groupby(['segmento','age_bin'])['renta'].transform('median')\n",
    "df['r_med_seg']     = df.groupby('segmento')['renta'].transform('median')\n",
    "df['r_med_age']     = df.groupby('age_bin')['renta'].transform('median')\n",
    "\n",
    "# Filling missing renta in order: (segmento, age_bin) median, segmento median, age_bin median  \n",
    "df['renta'] = (\n",
    "    df['renta']\n",
    "      .fillna(df['r_med_seg_age'])\n",
    "      .fillna(df['r_med_seg'])\n",
    "      .fillna(df['r_med_age'])\n",
    ")\n",
    "\n",
    "df.drop(columns=['r_med_seg_age','r_med_seg','r_med_age'], inplace=True)"
   ]
  },
  {
   "cell_type": "code",
   "execution_count": 31,
   "id": "955eb3f1-1767-43b8-9eee-b9222a738b9b",
   "metadata": {},
   "outputs": [
    {
     "name": "stdout",
     "output_type": "stream",
     "text": [
      "Number of nulls in 'renta': 0\n",
      "Percentage missing in 'renta': 0.00%\n"
     ]
    }
   ],
   "source": [
    "null_count = df['renta'].isna().sum()\n",
    "print(\"Number of nulls in 'renta':\", null_count)\n",
    "\n",
    "pct_null = null_count / len(df) * 100\n",
    "print(f\"Percentage missing in 'renta': {pct_null:.2f}%\")"
   ]
  },
  {
   "cell_type": "markdown",
   "id": "49607046-9c20-4802-832a-2302ce8d64c5",
   "metadata": {},
   "source": [
    "#### Imputation of Categorical Columns"
   ]
  },
  {
   "cell_type": "markdown",
   "id": "b7403942-6264-44c1-94c3-68f3c6ad1c27",
   "metadata": {},
   "source": [
    "Mode for other categorical columns"
   ]
  },
  {
   "cell_type": "code",
   "execution_count": 32,
   "id": "d3332bfd-fe73-4164-9a40-7ee5b69ef594",
   "metadata": {},
   "outputs": [],
   "source": [
    "for col in ['canal_entrada','pais_residencia','cod_prov','nomprov']:\n",
    "    mode_val = df[col].mode()[0]\n",
    "    df[col] = df[col].fillna(mode_val).astype('category')"
   ]
  },
  {
   "cell_type": "markdown",
   "id": "87d76f48-655b-495f-9e44-5002b98c85f9",
   "metadata": {},
   "source": [
    "#### Imputation of Flag columns"
   ]
  },
  {
   "cell_type": "markdown",
   "id": "6b0a930e-ab91-4fe2-afb3-f11d1ec9a701",
   "metadata": {},
   "source": [
    "For the “flag” columns, filling missing value with 0"
   ]
  },
  {
   "cell_type": "code",
   "execution_count": 33,
   "id": "50effa37-ad9e-4d58-b996-041672b46e0b",
   "metadata": {},
   "outputs": [],
   "source": [
    "binary_cols = [\n",
    "    'ind_fond_fin_ult1','ind_hip_fin_ult1','ind_plan_fin_ult1',\n",
    "    'ind_reca_fin_ult1','ind_tjcr_fin_ult1','ind_valo_fin_ult1',\n",
    "    'ind_viv_fin_ult1','ind_deme_fin_ult1','ind_dela_fin_ult1',\n",
    "    'ind_aval_fin_ult1','ind_deco_fin_ult1','ind_ctpp_fin_ult1',\n",
    "    'ind_ctop_fin_ult1','ind_ctma_fin_ult1','ind_ctju_fin_ult1',\n",
    "    'ind_cno_fin_ult1','ind_cder_fin_ult1','ind_cco_fin_ult1',\n",
    "    'ind_ahor_fin_ult1','ind_recibo_ult1',\n",
    "    'indrel_1mes','tiprel_1mes','indrel',\n",
    "    'ind_nuevo','indresi','indext',\n",
    "    'ind_actividad_cliente','ind_empleado',\n",
    "    'ind_nomina_ult1','ind_nom_pens_ult1','indfall','tipodom'\n",
    "]"
   ]
  },
  {
   "cell_type": "code",
   "execution_count": 34,
   "id": "d35f483d-f167-4f8d-a510-19eb8d72e6b8",
   "metadata": {},
   "outputs": [],
   "source": [
    "for col in binary_cols:\n",
    "    df[col] = pd.to_numeric(df[col], errors='coerce')\n",
    "    df[f'{col}_was_missing'] = df[col].isna().astype(int)\n",
    "    df[col] = df[col].fillna(0).astype(int)"
   ]
  },
  {
   "cell_type": "code",
   "execution_count": 35,
   "id": "aa7a4035-1c6e-4531-ba9d-499e8b2fe1b4",
   "metadata": {},
   "outputs": [],
   "source": [
    "missing_flags = [col for col in df.columns if col.endswith('_was_missing')]\n",
    "df.drop(columns=missing_flags, inplace=True)"
   ]
  },
  {
   "cell_type": "markdown",
   "id": "28f208d0-b92b-48f5-bb80-b79152ffeb71",
   "metadata": {},
   "source": [
    "#### Imputation of fecha_alta - account opening date"
   ]
  },
  {
   "cell_type": "markdown",
   "id": "7ffb89fc-e070-4663-b972-d5e384f4012a",
   "metadata": {},
   "source": [
    "Filling date based on median values of segmento and age"
   ]
  },
  {
   "cell_type": "code",
   "execution_count": 36,
   "id": "adb189ac-113d-439b-a390-8e2471d76674",
   "metadata": {},
   "outputs": [
    {
     "name": "stderr",
     "output_type": "stream",
     "text": [
      "/var/folders/6s/47yqzy6x00x0m1qlmj5mwcv40000gn/T/ipykernel_2045/3050587856.py:9: FutureWarning: The default of observed=False is deprecated and will be changed to True in a future version of pandas. Pass observed=False to retain current behavior or observed=True to adopt the future default and silence this warning.\n",
      "  df.groupby(['segmento','age_bin'])['fecha_alta']\n",
      "/var/folders/6s/47yqzy6x00x0m1qlmj5mwcv40000gn/T/ipykernel_2045/3050587856.py:17: FutureWarning: The default of observed=False is deprecated and will be changed to True in a future version of pandas. Pass observed=False to retain current behavior or observed=True to adopt the future default and silence this warning.\n",
      "  df.groupby('age_bin')['fecha_alta']\n"
     ]
    }
   ],
   "source": [
    "df['fecha_alta'] = pd.to_datetime(df['fecha_alta'], errors='coerce')\n",
    "\n",
    "df['fecha_alta_was_missing'] = df['fecha_alta'].isna().astype(int)\n",
    "\n",
    "# calculate medians at each level\n",
    "df['fecha_med_seg_age'] = (\n",
    "    df.groupby(['segmento','age_bin'])['fecha_alta']\n",
    "      .transform('median')\n",
    ")\n",
    "df['fecha_med_seg'] = (\n",
    "    df.groupby('segmento')['fecha_alta']\n",
    "      .transform('median')\n",
    ")\n",
    "df['fecha_med_age'] = (\n",
    "    df.groupby('age_bin')['fecha_alta']\n",
    "      .transform('median')\n",
    ")\n",
    "\n",
    "df['fecha_alta'] = (\n",
    "    df['fecha_alta']\n",
    "      .fillna(df['fecha_med_seg_age'])\n",
    "      .fillna(df['fecha_med_seg'])\n",
    "      .fillna(df['fecha_med_age'])\n",
    ")\n",
    "df.drop(columns=['fecha_med_seg_age','fecha_med_seg','fecha_med_age','fecha_alta_was_missing'], inplace=True)"
   ]
  },
  {
   "cell_type": "code",
   "execution_count": 37,
   "id": "a0743aaf-4fbd-41e2-b8f7-6e8401242107",
   "metadata": {},
   "outputs": [
    {
     "data": {
      "text/plain": [
       "fecha_dato               0\n",
       "ncodpers                 0\n",
       "ind_empleado             0\n",
       "pais_residencia          0\n",
       "sexo                     0\n",
       "age                      0\n",
       "fecha_alta               0\n",
       "ind_nuevo                0\n",
       "antiguedad               0\n",
       "indrel                   0\n",
       "indrel_1mes              0\n",
       "tiprel_1mes              0\n",
       "indresi                  0\n",
       "indext                   0\n",
       "canal_entrada            0\n",
       "indfall                  0\n",
       "tipodom                  0\n",
       "cod_prov                 0\n",
       "nomprov                  0\n",
       "ind_actividad_cliente    0\n",
       "renta                    0\n",
       "segmento                 0\n",
       "ind_ahor_fin_ult1        0\n",
       "ind_aval_fin_ult1        0\n",
       "ind_cco_fin_ult1         0\n",
       "ind_cder_fin_ult1        0\n",
       "ind_cno_fin_ult1         0\n",
       "ind_ctju_fin_ult1        0\n",
       "ind_ctma_fin_ult1        0\n",
       "ind_ctop_fin_ult1        0\n",
       "ind_ctpp_fin_ult1        0\n",
       "ind_deco_fin_ult1        0\n",
       "ind_deme_fin_ult1        0\n",
       "ind_dela_fin_ult1        0\n",
       "ind_ecue_fin_ult1        0\n",
       "ind_fond_fin_ult1        0\n",
       "ind_hip_fin_ult1         0\n",
       "ind_plan_fin_ult1        0\n",
       "ind_pres_fin_ult1        0\n",
       "ind_reca_fin_ult1        0\n",
       "ind_tjcr_fin_ult1        0\n",
       "ind_valo_fin_ult1        0\n",
       "ind_viv_fin_ult1         0\n",
       "ind_nomina_ult1          0\n",
       "ind_nom_pens_ult1        0\n",
       "ind_recibo_ult1          0\n",
       "age_bin                  0\n",
       "dtype: int64"
      ]
     },
     "execution_count": 37,
     "metadata": {},
     "output_type": "execute_result"
    }
   ],
   "source": [
    "df.isnull().sum()"
   ]
  },
  {
   "cell_type": "markdown",
   "id": "a9701b11-12d6-49fb-b3e8-701c858d10b2",
   "metadata": {},
   "source": [
    "### Basket creation for products"
   ]
  },
  {
   "cell_type": "markdown",
   "id": "0d0ce5fa-0665-4e05-9b0b-0fdbc34a8f37",
   "metadata": {},
   "source": [
    "Creating a list of products owned by customers as separate field  \n",
    "Dropping all the other flag columns  \n",
    "It would be useful for collaborative filtering "
   ]
  },
  {
   "cell_type": "code",
   "execution_count": 38,
   "id": "95a9cfd4-ba83-4604-9227-b0f584dd63a8",
   "metadata": {},
   "outputs": [],
   "source": [
    "prod_flags = [\n",
    "    'ind_ahor_fin_ult1','ind_aval_fin_ult1','ind_cco_fin_ult1',\n",
    "    'ind_cder_fin_ult1','ind_cno_fin_ult1','ind_ctju_fin_ult1',\n",
    "    'ind_ctma_fin_ult1','ind_ctop_fin_ult1','ind_ctpp_fin_ult1',\n",
    "    'ind_deco_fin_ult1','ind_deme_fin_ult1','ind_dela_fin_ult1',\n",
    "    'ind_ecue_fin_ult1','ind_fond_fin_ult1','ind_hip_fin_ult1',\n",
    "    'ind_plan_fin_ult1','ind_pres_fin_ult1','ind_reca_fin_ult1',\n",
    "    'ind_tjcr_fin_ult1','ind_valo_fin_ult1','ind_viv_fin_ult1',\n",
    "    'ind_nomina_ult1','ind_nom_pens_ult1','ind_recibo_ult1'\n",
    "]\n",
    "\n",
    "prod_names = {\n",
    "    'ind_ahor_fin_ult1': 'Saving Account',\n",
    "    'ind_aval_fin_ult1': 'Guarantees',\n",
    "    'ind_cco_fin_ult1': 'Current Accounts',\n",
    "    'ind_cder_fin_ult1': 'Derivada Account',\n",
    "    'ind_cno_fin_ult1': 'Payroll Account',\n",
    "    'ind_ctju_fin_ult1': 'Junior Account',\n",
    "    'ind_ctma_fin_ult1': 'Más particular Account',\n",
    "    'ind_ctop_fin_ult1': 'Particular Account',\n",
    "    'ind_ctpp_fin_ult1': 'Particular Plus Account',\n",
    "    'ind_deco_fin_ult1': 'Short-term Deposits',\n",
    "    'ind_deme_fin_ult1': 'Medium-term Deposits',\n",
    "    'ind_dela_fin_ult1': 'Long-term Deposits',\n",
    "    'ind_ecue_fin_ult1': 'E-account',\n",
    "    'ind_fond_fin_ult1': 'Funds',\n",
    "    'ind_hip_fin_ult1': 'Mortgage',\n",
    "    'ind_plan_fin_ult1': 'Pensions',\n",
    "    'ind_pres_fin_ult1': 'Loans',\n",
    "    'ind_reca_fin_ult1': 'Taxes',\n",
    "    'ind_tjcr_fin_ult1': 'Credit Card',\n",
    "    'ind_valo_fin_ult1': 'Securities',\n",
    "    'ind_viv_fin_ult1': 'Home Account',\n",
    "    'ind_nomina_ult1': 'Payroll',\n",
    "    'ind_nom_pens_ult1': 'Pensions Account',\n",
    "    'ind_recibo_ult1': 'Direct Debit'\n",
    "}"
   ]
  },
  {
   "cell_type": "code",
   "execution_count": 39,
   "id": "86ae76e4-099a-4025-b71a-80752b2c6990",
   "metadata": {},
   "outputs": [
    {
     "name": "stdout",
     "output_type": "stream",
     "text": [
      "   ncodpers               products  n_products\n",
      "0   1375586     [Current Accounts]           1\n",
      "1   1050611     [Current Accounts]           1\n",
      "2   1050612     [Current Accounts]           1\n",
      "3   1050613  [Short-term Deposits]           1\n",
      "4   1050614     [Current Accounts]           1\n"
     ]
    }
   ],
   "source": [
    "def make_basket(row):\n",
    "    return [prod_names[c] for c in prod_flags if row[c] == 1]\n",
    "\n",
    "df['products'] = df[prod_flags].apply(make_basket, axis=1)\n",
    "\n",
    "df = df[df['products'].map(len) > 0]\n",
    "df['n_products'] = df['products'].str.len()\n",
    "\n",
    "#Dropping the original flag columns\n",
    "df.drop(columns=prod_flags, inplace=True)\n",
    "\n",
    "print(df[['ncodpers','products','n_products']].head(5))\n"
   ]
  },
  {
   "cell_type": "code",
   "execution_count": 40,
   "id": "98f0df16-03c4-472f-b702-0922cc64e52e",
   "metadata": {},
   "outputs": [
    {
     "data": {
      "text/html": [
       "<div>\n",
       "<style scoped>\n",
       "    .dataframe tbody tr th:only-of-type {\n",
       "        vertical-align: middle;\n",
       "    }\n",
       "\n",
       "    .dataframe tbody tr th {\n",
       "        vertical-align: top;\n",
       "    }\n",
       "\n",
       "    .dataframe thead th {\n",
       "        text-align: right;\n",
       "    }\n",
       "</style>\n",
       "<table border=\"1\" class=\"dataframe\">\n",
       "  <thead>\n",
       "    <tr style=\"text-align: right;\">\n",
       "      <th></th>\n",
       "      <th>fecha_dato</th>\n",
       "      <th>ncodpers</th>\n",
       "      <th>ind_empleado</th>\n",
       "      <th>pais_residencia</th>\n",
       "      <th>sexo</th>\n",
       "      <th>age</th>\n",
       "      <th>fecha_alta</th>\n",
       "      <th>ind_nuevo</th>\n",
       "      <th>antiguedad</th>\n",
       "      <th>indrel</th>\n",
       "      <th>...</th>\n",
       "      <th>indfall</th>\n",
       "      <th>tipodom</th>\n",
       "      <th>cod_prov</th>\n",
       "      <th>nomprov</th>\n",
       "      <th>ind_actividad_cliente</th>\n",
       "      <th>renta</th>\n",
       "      <th>segmento</th>\n",
       "      <th>age_bin</th>\n",
       "      <th>products</th>\n",
       "      <th>n_products</th>\n",
       "    </tr>\n",
       "  </thead>\n",
       "  <tbody>\n",
       "    <tr>\n",
       "      <th>0</th>\n",
       "      <td>2015-01-28</td>\n",
       "      <td>1375586</td>\n",
       "      <td>0</td>\n",
       "      <td>ES</td>\n",
       "      <td>H</td>\n",
       "      <td>35.0</td>\n",
       "      <td>2015-01-12</td>\n",
       "      <td>0</td>\n",
       "      <td>6</td>\n",
       "      <td>1</td>\n",
       "      <td>...</td>\n",
       "      <td>0</td>\n",
       "      <td>1</td>\n",
       "      <td>29.0</td>\n",
       "      <td>MALAGA</td>\n",
       "      <td>1</td>\n",
       "      <td>87218.10</td>\n",
       "      <td>02 - PARTICULARES</td>\n",
       "      <td>30–39</td>\n",
       "      <td>[Current Accounts]</td>\n",
       "      <td>1</td>\n",
       "    </tr>\n",
       "    <tr>\n",
       "      <th>1</th>\n",
       "      <td>2015-01-28</td>\n",
       "      <td>1050611</td>\n",
       "      <td>0</td>\n",
       "      <td>ES</td>\n",
       "      <td>V</td>\n",
       "      <td>23.0</td>\n",
       "      <td>2012-08-10</td>\n",
       "      <td>0</td>\n",
       "      <td>35</td>\n",
       "      <td>1</td>\n",
       "      <td>...</td>\n",
       "      <td>0</td>\n",
       "      <td>1</td>\n",
       "      <td>13.0</td>\n",
       "      <td>CIUDAD REAL</td>\n",
       "      <td>0</td>\n",
       "      <td>35548.74</td>\n",
       "      <td>03 - UNIVERSITARIO</td>\n",
       "      <td>18–29</td>\n",
       "      <td>[Current Accounts]</td>\n",
       "      <td>1</td>\n",
       "    </tr>\n",
       "    <tr>\n",
       "      <th>2</th>\n",
       "      <td>2015-01-28</td>\n",
       "      <td>1050612</td>\n",
       "      <td>0</td>\n",
       "      <td>ES</td>\n",
       "      <td>V</td>\n",
       "      <td>23.0</td>\n",
       "      <td>2012-08-10</td>\n",
       "      <td>0</td>\n",
       "      <td>35</td>\n",
       "      <td>1</td>\n",
       "      <td>...</td>\n",
       "      <td>0</td>\n",
       "      <td>1</td>\n",
       "      <td>13.0</td>\n",
       "      <td>CIUDAD REAL</td>\n",
       "      <td>0</td>\n",
       "      <td>122179.11</td>\n",
       "      <td>03 - UNIVERSITARIO</td>\n",
       "      <td>18–29</td>\n",
       "      <td>[Current Accounts]</td>\n",
       "      <td>1</td>\n",
       "    </tr>\n",
       "    <tr>\n",
       "      <th>3</th>\n",
       "      <td>2015-01-28</td>\n",
       "      <td>1050613</td>\n",
       "      <td>0</td>\n",
       "      <td>ES</td>\n",
       "      <td>H</td>\n",
       "      <td>22.0</td>\n",
       "      <td>2012-08-10</td>\n",
       "      <td>0</td>\n",
       "      <td>35</td>\n",
       "      <td>1</td>\n",
       "      <td>...</td>\n",
       "      <td>0</td>\n",
       "      <td>1</td>\n",
       "      <td>50.0</td>\n",
       "      <td>ZARAGOZA</td>\n",
       "      <td>0</td>\n",
       "      <td>119775.54</td>\n",
       "      <td>03 - UNIVERSITARIO</td>\n",
       "      <td>18–29</td>\n",
       "      <td>[Short-term Deposits]</td>\n",
       "      <td>1</td>\n",
       "    </tr>\n",
       "    <tr>\n",
       "      <th>4</th>\n",
       "      <td>2015-01-28</td>\n",
       "      <td>1050614</td>\n",
       "      <td>0</td>\n",
       "      <td>ES</td>\n",
       "      <td>V</td>\n",
       "      <td>23.0</td>\n",
       "      <td>2012-08-10</td>\n",
       "      <td>0</td>\n",
       "      <td>35</td>\n",
       "      <td>1</td>\n",
       "      <td>...</td>\n",
       "      <td>0</td>\n",
       "      <td>1</td>\n",
       "      <td>50.0</td>\n",
       "      <td>ZARAGOZA</td>\n",
       "      <td>1</td>\n",
       "      <td>88474.38</td>\n",
       "      <td>03 - UNIVERSITARIO</td>\n",
       "      <td>18–29</td>\n",
       "      <td>[Current Accounts]</td>\n",
       "      <td>1</td>\n",
       "    </tr>\n",
       "  </tbody>\n",
       "</table>\n",
       "<p>5 rows × 25 columns</p>\n",
       "</div>"
      ],
      "text/plain": [
       "   fecha_dato  ncodpers  ind_empleado pais_residencia sexo   age fecha_alta  \\\n",
       "0  2015-01-28   1375586             0              ES    H  35.0 2015-01-12   \n",
       "1  2015-01-28   1050611             0              ES    V  23.0 2012-08-10   \n",
       "2  2015-01-28   1050612             0              ES    V  23.0 2012-08-10   \n",
       "3  2015-01-28   1050613             0              ES    H  22.0 2012-08-10   \n",
       "4  2015-01-28   1050614             0              ES    V  23.0 2012-08-10   \n",
       "\n",
       "   ind_nuevo antiguedad  indrel  ...  indfall  tipodom  cod_prov      nomprov  \\\n",
       "0          0          6       1  ...        0        1      29.0       MALAGA   \n",
       "1          0         35       1  ...        0        1      13.0  CIUDAD REAL   \n",
       "2          0         35       1  ...        0        1      13.0  CIUDAD REAL   \n",
       "3          0         35       1  ...        0        1      50.0     ZARAGOZA   \n",
       "4          0         35       1  ...        0        1      50.0     ZARAGOZA   \n",
       "\n",
       "  ind_actividad_cliente      renta            segmento age_bin  \\\n",
       "0                     1   87218.10   02 - PARTICULARES   30–39   \n",
       "1                     0   35548.74  03 - UNIVERSITARIO   18–29   \n",
       "2                     0  122179.11  03 - UNIVERSITARIO   18–29   \n",
       "3                     0  119775.54  03 - UNIVERSITARIO   18–29   \n",
       "4                     1   88474.38  03 - UNIVERSITARIO   18–29   \n",
       "\n",
       "                products  n_products  \n",
       "0     [Current Accounts]           1  \n",
       "1     [Current Accounts]           1  \n",
       "2     [Current Accounts]           1  \n",
       "3  [Short-term Deposits]           1  \n",
       "4     [Current Accounts]           1  \n",
       "\n",
       "[5 rows x 25 columns]"
      ]
     },
     "execution_count": 40,
     "metadata": {},
     "output_type": "execute_result"
    }
   ],
   "source": [
    "df.head()"
   ]
  },
  {
   "cell_type": "code",
   "execution_count": 41,
   "id": "e35de312-8521-4ec8-9adb-110e0a764407",
   "metadata": {},
   "outputs": [],
   "source": [
    "df.to_csv('/Users/archana/Documents/Santander-RecSys/santander-product-recommendation/cleaned_train_data.csv', index=False)"
   ]
  }
 ],
 "metadata": {
  "kernelspec": {
   "display_name": "Python 3 (ipykernel)",
   "language": "python",
   "name": "python3"
  },
  "language_info": {
   "codemirror_mode": {
    "name": "ipython",
    "version": 3
   },
   "file_extension": ".py",
   "mimetype": "text/x-python",
   "name": "python",
   "nbconvert_exporter": "python",
   "pygments_lexer": "ipython3",
   "version": "3.13.5"
  },
  "widgets": {
   "application/vnd.jupyter.widget-state+json": {
    "state": {},
    "version_major": 2,
    "version_minor": 0
   }
  }
 },
 "nbformat": 4,
 "nbformat_minor": 5
}
